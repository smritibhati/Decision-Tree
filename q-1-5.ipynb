{
 "cells": [
  {
   "cell_type": "code",
   "execution_count": 2,
   "metadata": {
    "scrolled": true
   },
   "outputs": [],
   "source": [
    "import pandas as pd\n",
    "import numpy as np\n",
    "import matplotlib.pyplot as plt\n",
    "eps = np.finfo(float).eps\n",
    "from numpy import log2\n",
    "import math\n",
    "data=pd.read_csv('decision_Tree/train.csv')\n",
    "data,testdata= np.split(data,[int(0.80*len(data))])"
   ]
  },
  {
   "cell_type": "code",
   "execution_count": 3,
   "metadata": {},
   "outputs": [],
   "source": [
    "class Node:\n",
    "    def __init__(self,split,rows,leaf,numeric):\n",
    "        self.isleaf=leaf\n",
    "        self.rows=rows\n",
    "        self.isnumeric=numeric\n",
    "#         print(\"rows\", rows)\n",
    "        yes,no = maxfreq(rows)\n",
    "       \n",
    "        if yes==0 or no ==0:\n",
    "            self.isleaf=True\n",
    "        \n",
    "        if self.isleaf==True:\n",
    "            if yes>no:\n",
    "                self.value=1\n",
    "            else:\n",
    "                self.value=0\n",
    "            self.children={}\n",
    "        else:\n",
    "            self.value=split #name of the attribute is the value of the node\n",
    "            if self.isnumeric:\n",
    "                self.children,self.minsplit=partitionnumerical(rows,split)\n",
    "            else:\n",
    "                self.children= partitioncategorical(rows,split) #all children of this attribute in a dictionary\n",
    "#         print (self.value,\"Node Value\")\n",
    "        return\n",
    "        "
   ]
  },
  {
   "cell_type": "code",
   "execution_count": 4,
   "metadata": {},
   "outputs": [],
   "source": [
    "def maxfreq(rows):\n",
    "    yes=0\n",
    "    no=0\n",
    "    for x in range(len(rows)):\n",
    "        if rows.iloc[x]['left']==1:\n",
    "            yes+=1\n",
    "        else:\n",
    "            no+=1\n",
    "    return yes,no"
   ]
  },
  {
   "cell_type": "code",
   "execution_count": 5,
   "metadata": {},
   "outputs": [],
   "source": [
    "def partitionnumerical(data, col):\n",
    "#     print(\"col\",col)\n",
    "    countdict={}\n",
    "    minent=float('inf')\n",
    "    data.sort_values([col],axis=0,ascending=True,inplace=True)\n",
    "    uniquevalues = data[col].unique()\n",
    "    for value in uniquevalues:\n",
    "        ent=0\n",
    "        data1=data[data[col]<=value]\n",
    "        data2=data[data[col]>value]\n",
    "        data1stats = matchlabel(data1)\n",
    "        data2stats = matchlabel(data2)\n",
    "        \n",
    "        ans=0\n",
    "        for op in data1stats:\n",
    "            val=data1stats[op]\n",
    "            ans-= float(val)/float(len(data1)) * math.log((float(val)/float(len(data1))),2)\n",
    "        \n",
    "        ent+=ans*(len(data1)/len(data))\n",
    "       \n",
    "        ans=0\n",
    "        for op in data2stats:\n",
    "            val=data2stats[op]\n",
    "            ans-= float(val)/float(len(data2)) * math.log((float(val)/float(len(data2))),2)\n",
    "        \n",
    "        ent+=ans*(len(data2)/len(data))\n",
    "    \n",
    "        if ent<minent:\n",
    "            minent=ent\n",
    "            minsplit=value\n",
    "    \n",
    "#     print(\"categorical ent\",minent)\n",
    "#     print(\"minsplit\",minsplit)\n",
    "#     print(\"minsplit at\",minsplit)\n",
    "    countdict[0]=data[data[col]<=minsplit]\n",
    "    countdict[1]=data[data[col]>minsplit]\n",
    "    return countdict,minsplit\n"
   ]
  },
  {
   "cell_type": "code",
   "execution_count": 6,
   "metadata": {},
   "outputs": [],
   "source": [
    "#partitions the rows into multiple groups based on the column passed\n",
    "def partitioncategorical(data,col):\n",
    "    countdict={}\n",
    "    uniquevalues = data[col].unique()\n",
    "    for value in uniquevalues:\n",
    "        countdict[value]= data[data[col]==value]\n",
    "#     print (countdict)\n",
    "    return countdict"
   ]
  },
  {
   "cell_type": "code",
   "execution_count": 7,
   "metadata": {},
   "outputs": [],
   "source": [
    "#matches the passed rows to count the number of yes and no in the rows \n",
    "def matchlabel(data):\n",
    "    stats={}\n",
    "    values, valuecount = np.unique(data['left'],return_counts=True)\n",
    "    for i in range(len(values)):\n",
    "        stats[values[i]]=valuecount[i]\n",
    "    return stats"
   ]
  },
  {
   "cell_type": "code",
   "execution_count": 8,
   "metadata": {},
   "outputs": [],
   "source": [
    "def isnumeric(col):\n",
    "    return data[col].dtype.kind in 'bifc'"
   ]
  },
  {
   "cell_type": "code",
   "execution_count": 9,
   "metadata": {},
   "outputs": [],
   "source": [
    "#calculate the entropy of the passed column\n",
    "def entropy(rows,col):\n",
    "    entro=0\n",
    "    \n",
    "    if isnumeric(col):\n",
    "#         print(col,\"is numeric\")\n",
    "        countdict,minsplit=partitionnumerical(rows,col)\n",
    "    else:\n",
    "        countdict= partitioncategorical(rows,col)\n",
    "    \n",
    "#     print(\"countdict\",countdict)\n",
    "    for key in countdict:\n",
    "        rowgroup=countdict[key]\n",
    "        rowgroupstats=matchlabel(rowgroup)\n",
    "        ans=0\n",
    "#         print(rowgroupstats)\n",
    "        for op in rowgroupstats:\n",
    "            value=rowgroupstats[op]\n",
    "            ans-= float(value)/float(len(rowgroup)) * math.log((float(value)/float(len(rowgroup))),2)\n",
    "        \n",
    "        entro+=ans*(len(rowgroup)/len(rows))\n",
    "    return entro"
   ]
  },
  {
   "cell_type": "code",
   "execution_count": 10,
   "metadata": {},
   "outputs": [],
   "source": [
    "def totalentropy(data):\n",
    "    countdict=partitioncategorical(data,'left')\n",
    "    total = 0\n",
    "    for key in countdict:\n",
    "        value=len(countdict[key])\n",
    "        total-= float(value)/float(len(data)) * math.log((float(value)/float(len(data))),2)\n",
    "    return total"
   ]
  },
  {
   "cell_type": "code",
   "execution_count": 11,
   "metadata": {},
   "outputs": [],
   "source": [
    "def informationgain(data,total):\n",
    "#     print(\"length of data\", len(data))\n",
    "    maxinfogain=0\n",
    "    attr=0\n",
    "    infogain=0\n",
    "    for col in data:\n",
    "        if col=='left': \n",
    "            continue\n",
    "        ent=entropy(data,col)\n",
    "#         print(\"Total and entropy\",total,ent)\n",
    "        infogain=total-ent\n",
    "#         print (infogain)\n",
    "        if infogain>maxinfogain:\n",
    "#             print(\"maxinfogain\",maxinfogain)\n",
    "            maxinfogain=infogain\n",
    "            attr=col\n",
    "    return maxinfogain,attr"
   ]
  },
  {
   "cell_type": "code",
   "execution_count": 12,
   "metadata": {},
   "outputs": [],
   "source": [
    "nodecount=0"
   ]
  },
  {
   "cell_type": "code",
   "execution_count": 13,
   "metadata": {},
   "outputs": [],
   "source": [
    "def buildTree(data,maxlevel,level):\n",
    "    global nodecount\n",
    "#     print(\"level\",level)\n",
    "#     if(level>maxlevel):\n",
    "#         maxlevel=level\n",
    "    total=totalentropy(data)\n",
    "#     print(total,\"total\")\n",
    "    gain, split = informationgain(data,total)\n",
    "#     print(\"split\", split)\n",
    "    if level == maxlevel or gain<=0:\n",
    "        nodecount+=1\n",
    "        return Node(split,data,True,False)\n",
    "    \n",
    "    root = Node(split,data,False,isnumeric(split))\n",
    "#     print( \"root->children\",root.children)\n",
    "    for child in root.children:\n",
    "#         print(root.children[child].drop(columns=[split]))\n",
    "        nodecount+=1\n",
    "        if(isnumeric(split)):\n",
    "            root.children[child]=buildTree(root.children[child],maxlevel,level+1)\n",
    "        else:\n",
    "            root.children[child]=buildTree(root.children[child].drop(columns=[split]),maxlevel,level+1)\n",
    "    return root     "
   ]
  },
  {
   "cell_type": "code",
   "execution_count": 20,
   "metadata": {},
   "outputs": [
    {
     "name": "stderr",
     "output_type": "stream",
     "text": [
      "/Library/Frameworks/Python.framework/Versions/3.7/lib/python3.7/site-packages/ipykernel_launcher.py:5: SettingWithCopyWarning: \n",
      "A value is trying to be set on a copy of a slice from a DataFrame\n",
      "\n",
      "See the caveats in the documentation: http://pandas.pydata.org/pandas-docs/stable/indexing.html#indexing-view-versus-copy\n",
      "  \"\"\"\n"
     ]
    },
    {
     "name": "stdout",
     "output_type": "stream",
     "text": [
      "NODE 4\n",
      "error 1 0.1781979977753059\n",
      "NODE 10\n",
      "error 2 0.17597330367074526\n",
      "NODE 19\n",
      "error 3 0.05506117908787542\n",
      "NODE 69\n",
      "error 4 0.03303670745272525\n",
      "NODE 128\n",
      "error 5 0.0253615127919911\n",
      "NODE 228\n",
      "error 6 0.01957730812013348\n",
      "NODE 343\n",
      "error 7 0.015239154616240267\n",
      "NODE 472\n",
      "error 8 0.011568409343715239\n",
      "NODE 583\n",
      "error 9 0.009343715239154617\n",
      "NODE 699\n",
      "error 10 0.006229143492769744\n",
      "NODE 775\n",
      "error 11 0.00489432703003337\n",
      "NODE 828\n",
      "error 12 0.0036707452725250277\n",
      "NODE 858\n",
      "error 13 0.0023359288097886542\n",
      "NODE 890\n",
      "error 14 0.0014460511679644048\n",
      "NODE 905\n",
      "error 15 0.0010011123470522803\n",
      "NODE 917\n",
      "error 16 0.0006674082313681868\n",
      "NODE 923\n",
      "error 17 0.0005561735261401557\n",
      "NODE 926\n",
      "error 18 0.0002224694104560623\n"
     ]
    },
    {
     "ename": "NameError",
     "evalue": "name 'error' is not defined",
     "output_type": "error",
     "traceback": [
      "\u001b[0;31m---------------------------------------------------------------------------\u001b[0m",
      "\u001b[0;31mNameError\u001b[0m                                 Traceback (most recent call last)",
      "\u001b[0;32m<ipython-input-20-228847e9ae11>\u001b[0m in \u001b[0;36m<module>\u001b[0;34m\u001b[0m\n\u001b[1;32m     15\u001b[0m     \u001b[0mprint\u001b[0m\u001b[0;34m(\u001b[0m\u001b[0;34m\"error\"\u001b[0m\u001b[0;34m,\u001b[0m\u001b[0mi\u001b[0m\u001b[0;34m,\u001b[0m\u001b[0merr\u001b[0m\u001b[0;34m)\u001b[0m\u001b[0;34m\u001b[0m\u001b[0;34m\u001b[0m\u001b[0m\n\u001b[1;32m     16\u001b[0m \u001b[0;34m\u001b[0m\u001b[0m\n\u001b[0;32m---> 17\u001b[0;31m \u001b[0mprint\u001b[0m \u001b[0;34m(\u001b[0m\u001b[0merror\u001b[0m\u001b[0;34m)\u001b[0m\u001b[0;34m\u001b[0m\u001b[0;34m\u001b[0m\u001b[0m\n\u001b[0m\u001b[1;32m     18\u001b[0m \u001b[0;31m# print(root.isleaf)\u001b[0m\u001b[0;34m\u001b[0m\u001b[0;34m\u001b[0m\u001b[0;34m\u001b[0m\u001b[0m\n",
      "\u001b[0;31mNameError\u001b[0m: name 'error' is not defined"
     ]
    }
   ],
   "source": [
    "levels=[]\n",
    "trainerror=[]\n",
    "validateerror=[]\n",
    "nodes=[]\n",
    "\n",
    "for i in range(1,19):\n",
    "    levels.append(i)\n",
    "    root=buildTree(data,i,0)\n",
    "    nodes.append(nodecount)\n",
    "    print(\"NODE\", nodecount)\n",
    "    nodecount=0\n",
    "    err,terr=predict(root,testdata,data)\n",
    "    trainerror.append(err)\n",
    "    validateerror.append(terr)\n",
    "    print(\"error\",i,err)\n",
    "\n",
    "# print(root.isleaf)"
   ]
  },
  {
   "cell_type": "code",
   "execution_count": 23,
   "metadata": {},
   "outputs": [
    {
     "name": "stdout",
     "output_type": "stream",
     "text": [
      "[0.1781979977753059, 0.17597330367074526, 0.05506117908787542, 0.03303670745272525, 0.0253615127919911, 0.01957730812013348, 0.015239154616240267, 0.011568409343715239, 0.009343715239154617, 0.006229143492769744, 0.00489432703003337, 0.0036707452725250277, 0.0023359288097886542, 0.0014460511679644048, 0.0010011123470522803, 0.0006674082313681868, 0.0005561735261401557, 0.0002224694104560623]\n"
     ]
    },
    {
     "data": {
      "image/png": "[encoded data removed]",
      "text/plain": [
       "<Figure size 432x288 with 1 Axes>"
      ]
     },
     "metadata": {
      "needs_background": "light"
     },
     "output_type": "display_data"
    },
    {
     "data": {
      "image/png": "[encoded data removed]",
      "text/plain": [
       "<Figure size 432x288 with 1 Axes>"
      ]
     },
     "metadata": {
      "needs_background": "light"
     },
     "output_type": "display_data"
    },
    {
     "data": {
      "image/png": "[encoded data removed]",
      "text/plain": [
       "<Figure size 432x288 with 1 Axes>"
      ]
     },
     "metadata": {
      "needs_background": "light"
     },
     "output_type": "display_data"
    },
    {
     "data": {
      "image/png": "[encoded data removed]",
      "text/plain": [
       "<Figure size 432x288 with 1 Axes>"
      ]
     },
     "metadata": {
      "needs_background": "light"
     },
     "output_type": "display_data"
    }
   ],
   "source": [
    "print(trainerror)\n",
    "plot_graph(validateerror,trainerror,levels)\n",
    "plot_graph(validateerror,trainerror,nodes)"
   ]
  },
  {
   "cell_type": "code",
   "execution_count": 22,
   "metadata": {},
   "outputs": [],
   "source": [
    "def plot_graph(validate_error, training_error, depth):\n",
    "    plt.figure()\n",
    "    \n",
    "    x = depth \n",
    "    y = validate_error \n",
    "    plt.title(\"Validate Error Graph with Depth\") \n",
    "\n",
    "    # Plot the points using matplotlib \n",
    "    plt.plot(x, y) \n",
    "    plt.show()\n",
    "    \n",
    "    y = training_error \n",
    "    plt.title(\"Training Error Graph with Depth\") \n",
    "\n",
    "    # Plot the points using matplotlib \n",
    "    plt.plot(x, y) \n",
    "    plt.show()"
   ]
  },
  {
   "cell_type": "code",
   "execution_count": 19,
   "metadata": {},
   "outputs": [],
   "source": [
    "def findlabel(root,row):\n",
    "    ptr = root\n",
    "    while ptr.isleaf==False:\n",
    "        if ptr.isnumeric==False:\n",
    "            try:\n",
    "                value=row[ptr.value]\n",
    "#                 print(ptr.children)\n",
    "                ptr=ptr.children[value]\n",
    "            except:\n",
    "                return 0\n",
    "        else:\n",
    "            try:\n",
    "                value=row[ptr.value]\n",
    "                if value<=ptr.minsplit:\n",
    "                    ptr=ptr.children[0]\n",
    "                else:\n",
    "                    ptr=ptr.children[1]\n",
    "            except:\n",
    "                return 0\n",
    "    \n",
    "    return ptr.value"
   ]
  },
  {
   "cell_type": "code",
   "execution_count": 16,
   "metadata": {},
   "outputs": [],
   "source": [
    "def calculate(fp,fn,tp,tn,wrong,correct):\n",
    "    accuracy=correct/(wrong+correct)\n",
    "    recall=tp/(tp+fn)\n",
    "    precision=tp/(tp+fp)\n",
    "    f1score=(2/(1/precision)+(1/recall))\n",
    "    return accuracy,recall,precision,f1score"
   ]
  },
  {
   "cell_type": "code",
   "execution_count": 17,
   "metadata": {},
   "outputs": [],
   "source": [
    "def predict(root,testdata,data):\n",
    "    correct=0\n",
    "    wrong=0\n",
    "    tcorrect=0\n",
    "    twrong=0\n",
    "    \n",
    "    for i in range(0,len(data)):\n",
    "        row=data.iloc[i]\n",
    "        predictlabel=findlabel(root,row)\n",
    "        if predictlabel==row['left']:\n",
    "            correct+=1\n",
    "        else:\n",
    "            wrong+=1\n",
    "            \n",
    "    for i in range(0,len(testdata)):\n",
    "        row=data.iloc[i]\n",
    "        predictlabel=findlabel(root,row)\n",
    "        if predictlabel==row['left']:\n",
    "            tcorrect+=1\n",
    "        else:\n",
    "            twrong+=1\n",
    "#     print(fp,fn,tp,tn,wrong,correct)\n",
    "#     calculate(fp,fn,tp,tn,wrong,correct)\n",
    "    return (wrong/(wrong+correct)),(twrong/(twrong+tcorrect)) "
   ]
  },
  {
   "cell_type": "code",
   "execution_count": null,
   "metadata": {},
   "outputs": [],
   "source": []
  }
 ],
 "metadata": {
  "kernelspec": {
   "display_name": "Python 3",
   "language": "python",
   "name": "python3"
  },
  "language_info": {
   "codemirror_mode": {
    "name": "ipython",
    "version": 3
   },
   "file_extension": ".py",
   "mimetype": "text/x-python",
   "name": "python",
   "nbconvert_exporter": "python",
   "pygments_lexer": "ipython3",
   "version": "3.7.1"
  }
 },
 "nbformat": 4,
 "nbformat_minor": 2
}
